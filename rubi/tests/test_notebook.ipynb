{
 "cells": [
  {
   "cell_type": "code",
   "execution_count": 1,
   "metadata": {},
   "outputs": [],
   "source": [
    "import logging as log\n",
    "from _decimal import Decimal\n",
    "from multiprocessing import Queue\n",
    "from threading import Thread\n",
    "from time import sleep\n",
    "from typing import Union, List, Optional, Dict, Type, Any, Callable\n",
    "\n",
    "from eth_typing import ChecksumAddress\n",
    "from web3.types import EventData\n",
    "\n",
    "from rubi.contracts import (\n",
    "    RubiconMarket,\n",
    "    RubiconRouter,\n",
    "    ERC20,\n",
    ")\n",
    "from rubi.network import (\n",
    "    Network,\n",
    ")\n",
    "from rubi.types import (\n",
    "    OrderSide,\n",
    "    NewMarketOrder,\n",
    "    NewLimitOrder,\n",
    "    Pair,\n",
    "    OrderBook,\n",
    "    PairDoesNotExistException,\n",
    "    BaseEvent,\n",
    "    OrderEvent,\n",
    "    Transaction,\n",
    "    BaseNewOrder,\n",
    "    NewCancelOrder,\n",
    "    UpdateLimitOrder\n",
    ")\n",
    "\n",
    "import os\n",
    "import time\n",
    "import json\n",
    "import pytest\n",
    "import logging as log\n",
    "from eth_utils import to_wei\n",
    "from eth_tester import PyEVMBackend\n",
    "from web3 import EthereumTesterProvider, Web3\n",
    "from dotenv import load_dotenv\n",
    "from rubi import Client"
   ]
  },
  {
   "cell_type": "code",
   "execution_count": 2,
   "metadata": {},
   "outputs": [],
   "source": [
    "load_dotenv(\".env\")\n",
    "http_node_url = os.getenv(\"HTTP_NODE_URL\")\n",
    "wallet = os.getenv(\"DEV_WALLET\")\n",
    "key = os.getenv(\"DEV_KEY\")"
   ]
  },
  {
   "cell_type": "code",
   "execution_count": 5,
   "metadata": {},
   "outputs": [
    {
     "data": {
      "text/plain": [
       "Network(name='Polygon Mumbai', chain_id=80001, w3=<web3.main.Web3 object at 0x10ca04250>, currency='MATIC', rpc_url='https://rpc-mumbai.maticvigil.com/', explorer_url='https://mumbai.polygonscan.com/', rubicon=RubiconContracts(market=ContractRepr(address='0x10418D9e730fa659b0Baf0b640ee41FcF4EA2aaE', abi='Loaded'), router=ContractRepr(address='0xbA81dF0251A017C2fB687e5469a897529442f008', abi='Loaded')), token_addresses={'WETH': '0xE412a307764cCBE02E055e926516ebD74230cfE0', 'USDC': '0xcC5f8571D858DAD7fA2238FB9df4Ad384493013C', 'TEST': '0x6aeda41c98ab5399044fc36162B57d39c13b658a', 'USDT': '0x97fcdaA045F4a3Bc8Fc7ad721EFf38d66B234C7F', 'DAI': '0xAb647DF8262580c1caB61Eb165B22616365d3C67', 'WBTC': '0x639C6472C45037F7aA868729dFfF69eB3843f1A0'})"
      ]
     },
     "execution_count": 5,
     "metadata": {},
     "output_type": "execute_result"
    }
   ],
   "source": [
    "Network.from_config(http_node_url=http_node_url)"
   ]
  },
  {
   "cell_type": "code",
   "execution_count": 8,
   "metadata": {},
   "outputs": [],
   "source": [
    "client = Client.from_http_node_url(\n",
    "            http_node_url=http_node_url,\n",
    "            wallet=wallet,\n",
    "            key=key\n",
    "        )"
   ]
  },
  {
   "cell_type": "code",
   "execution_count": 10,
   "metadata": {},
   "outputs": [],
   "source": [
    "# Test if the wallet attribute is set correctly when a valid wallet address is provided.\n",
    "assert client.wallet == wallet\n",
    "# Test if the key attribute is set correctly when a key is provided.\n",
    "assert client.key == key\n",
    "# Test if the market/router have correct types and are init\n",
    "assert type(client.market) == RubiconMarket\n",
    "assert type(client.router) == RubiconRouter\n",
    "# Test if the _pairs attribute is initialized as an empty dictionary.\n",
    "assert len(client._pairs.keys()) == 0\n",
    "# Test if the message_queue attribute is set to None when no queue is provided."
   ]
  },
  {
   "cell_type": "code",
   "execution_count": 11,
   "metadata": {},
   "outputs": [],
   "source": [
    "client = Client(\n",
    "        network= Network.from_config(http_node_url=http_node_url),\n",
    "        wallet= wallet,\n",
    "        key=key)"
   ]
  },
  {
   "cell_type": "code",
   "execution_count": 16,
   "metadata": {},
   "outputs": [],
   "source": [
    "# Test if a Client instance is created successfully.\n",
    "assert client\n",
    "# Test if the network attribute of the created instance is set correctly.\n",
    "assert client.network.chain_id == 80001\n",
    "# Test if the message_queue attribute of the created instance is set to None when no queue is provided.\n",
    "assert client.message_queue is None\n",
    "# Test if the wallet attribute of the created instance is set correctly when a valid wallet address is provided.\n",
    "assert client.wallet == wallet\n",
    "# Test if the wallet attribute of the created instance is set to None when no wallet address is provided.\n",
    "clientx = Client(\n",
    "        network= Network.from_config(http_node_url=http_node_url))\n",
    "assert clientx.wallet is None\n",
    "# Test if the key attribute of the created instance is set correctly when a key is provided.\n",
    "assert clientx.key is None"
   ]
  },
  {
   "attachments": {},
   "cell_type": "markdown",
   "metadata": {},
   "source": [
    "Pseudocode for the different tests "
   ]
  },
  {
   "attachments": {},
   "cell_type": "markdown",
   "metadata": {},
   "source": []
  }
 ],
 "metadata": {
  "kernelspec": {
   "display_name": "rubicon",
   "language": "python",
   "name": "python3"
  },
  "language_info": {
   "codemirror_mode": {
    "name": "ipython",
    "version": 3
   },
   "file_extension": ".py",
   "mimetype": "text/x-python",
   "name": "python",
   "nbconvert_exporter": "python",
   "pygments_lexer": "ipython3",
   "version": "3.10.11"
  },
  "orig_nbformat": 4
 },
 "nbformat": 4,
 "nbformat_minor": 2
}
