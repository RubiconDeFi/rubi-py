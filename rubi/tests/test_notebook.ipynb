{
 "cells": [
  {
   "cell_type": "code",
   "execution_count": 4,
   "metadata": {},
   "outputs": [],
   "source": [
    "import logging as log\n",
    "from _decimal import Decimal\n",
    "from multiprocessing import Queue\n",
    "from threading import Thread\n",
    "from time import sleep\n",
    "from typing import Union, List, Optional, Dict, Type, Any, Callable\n",
    "\n",
    "from eth_typing import ChecksumAddress\n",
    "from web3.types import EventData\n",
    "\n",
    "from rubi.contracts import (\n",
    "    RubiconMarket,\n",
    "    RubiconRouter,\n",
    "    ERC20,\n",
    ")\n",
    "from rubi.network import (\n",
    "    Network,\n",
    ")\n",
    "from rubi.types import (\n",
    "    OrderSide,\n",
    "    NewMarketOrder,\n",
    "    NewLimitOrder,\n",
    "    Pair,\n",
    "    OrderBook,\n",
    "    PairDoesNotExistException,\n",
    "    BaseEvent,\n",
    "    OrderEvent,\n",
    "    Transaction,\n",
    "    BaseNewOrder,\n",
    "    NewCancelOrder,\n",
    "    UpdateLimitOrder\n",
    ")\n",
    "\n",
    "import os\n",
    "import time\n",
    "import json\n",
    "import pytest\n",
    "import logging as log\n",
    "from eth_utils import to_wei\n",
    "from eth_tester import PyEVMBackend\n",
    "from web3 import EthereumTesterProvider, Web3"
   ]
  },
  {
   "cell_type": "code",
   "execution_count": 8,
   "metadata": {},
   "outputs": [],
   "source": [
    "# set a fixture to return a tester provider intance \n",
    "\n",
    "def tester_provider():\n",
    "    eth_tester_provider = EthereumTesterProvider()\n",
    "    eth_tester_provider.ethereum_tester.backend = PyEVMBackend.from_mnemonic(\n",
    "        'test test test test test test test test test test test junk',\n",
    "        genesis_state_overrides={'balance': to_wei(1000000, 'ether')}\n",
    "    )\n",
    "    # return EthereumTesterProvider()\n",
    "    return eth_tester_provider\n",
    "\n",
    "# set a fixture to return the eth_tester object from the tester provider instance\n",
    "\n",
    "def eth_tester(tester_provider):\n",
    "    return tester_provider.ethereum_tester\n",
    "\n",
    "# set a fixture to return a web3 instance instantiated from the tester provider\n",
    "\n",
    "def w3(tester_provider):\n",
    "    return Web3(tester_provider)\n",
    "\n",
    "# a function to add an account to the eth_tester object given the private key\n",
    "\n",
    "def add_account(eth_tester):\n",
    "\n",
    "    new = eth_tester.add_account('0x58d23b55bc9cdce1f18c2500f40ff4ab7245df9a89505e9b1fa4851f623d241d')\n",
    "    return {'address' : new, 'key': '0x58d23b55bc9cdce1f18c2500f40ff4ab7245df9a89505e9b1fa4851f623d241d'}\n",
    "\n",
    "# a function to add another account to the eth_tester object given the private key\n",
    "\n",
    "def add_account_buyer(eth_tester):\n",
    "\n",
    "    new = eth_tester.add_account('0x58d23b55bc9cdce1f18c2500f40ff4ab7245df9a89505e9b1fa4851f623d2420')\n",
    "    return {'address' : new, 'key': '0x58d23b55bc9cdce1f18c2500f40ff4ab7245df9a89505e9b1fa4851f623d2420'}\n",
    "\n",
    "# set a fixture to initialize a dictionary of erc20 contracts\n",
    "\n",
    "def erc20s(market_contract, add_account, add_account_buyer, eth_tester, w3):\n",
    "\n",
    "    # set the test addresses\n",
    "    deploy_address = eth_tester.get_accounts()[0]\n",
    "    user_one = eth_tester.get_accounts()[1]\n",
    "    user_two = eth_tester.get_accounts()[2]\n",
    "    user_new = add_account['address']\n",
    "    user_buyer = add_account_buyer['address']\n",
    "\n",
    "    # load the contract abi and bytecode\n",
    "    path = f\"{os.path.dirname(os.path.realpath(__file__))}/abis/ERC20MockDecimals.json\"\n",
    "    with open(path, 'r') as f:\n",
    "        contract_interface = json.load(f)\n",
    "    f.close()\n",
    "    abi = contract_interface[\"abi\"]\n",
    "    bytecode = contract_interface[\"bytecode\"]\n",
    "\n",
    "    # set up the contract instance \n",
    "    erc20_deployement = w3.eth.contract(abi=abi, bytecode=bytecode)\n",
    "\n",
    "    # set the constructor arguments -> cow_setup = name, symbol, supply, decimals\n",
    "    supply = 420 * 10**18\n",
    "\n",
    "    # deploy the contract\n",
    "    cow_deploy = erc20_deployement.constructor(\"defi cowboy\", \"COW\", supply, 18).transact({'from': deploy_address})\n",
    "    eth_deploy = erc20_deployement.constructor(\"ether\", \"ETH\", supply, 18).transact({'from': deploy_address})\n",
    "    blz_deploy = erc20_deployement.constructor(\"blaze it\", \"BLZ\", supply, 18).transact({'from': deploy_address})\n",
    "\n",
    "    # get the contract address\n",
    "    cow_receipt = w3.eth.wait_for_transaction_receipt(cow_deploy, 180)\n",
    "    eth_receipt = w3.eth.wait_for_transaction_receipt(eth_deploy, 180)\n",
    "    blz_receipt = w3.eth.wait_for_transaction_receipt(blz_deploy, 180)\n",
    "\n",
    "    # connect to the contract\n",
    "    try:\n",
    "        cow = w3.eth.contract(address=cow_receipt.contractAddress, abi=abi)\n",
    "        eth = w3.eth.contract(address=eth_receipt.contractAddress, abi=abi)\n",
    "        blz = w3.eth.contract(address=blz_receipt.contractAddress, abi=abi)\n",
    "    except Exception as e:\n",
    "        log.warning('there was an error connecting to the erc20 contracts: ', e)\n",
    "\n",
    "    # send 100 tokens & 100 eth from the deployer to user_new and user_buyer\n",
    "    w3.eth.send_transaction({'from': deploy_address, 'to': user_new, 'value': 100 * 10**18})\n",
    "    w3.eth.send_transaction({'from': deploy_address, 'to': user_buyer, 'value': 100 * 10**18})\n",
    "    cow.functions.transfer(user_new, 100 * 10**18).transact({'from': deploy_address})\n",
    "    eth.functions.transfer(user_new, 100 * 10**18).transact({'from': deploy_address})\n",
    "    blz.functions.transfer(user_new, 100 * 10**18).transact({'from': deploy_address})\n",
    "    cow.functions.transfer(user_buyer, 100 * 10**18).transact({'from': deploy_address})\n",
    "    eth.functions.transfer(user_buyer, 100 * 10**18).transact({'from': deploy_address})\n",
    "    blz.functions.transfer(user_buyer, 100 * 10**18).transact({'from': deploy_address})\n",
    "\n",
    "    # set the max approval for the erc20s\n",
    "    max_approval = 2**256 - 1\n",
    "\n",
    "    # approve the market contract to spend the strategist's tokens\n",
    "    cow.functions.approve(market_contract.address, max_approval).transact({'from': deploy_address})\n",
    "    cow.functions.approve(market_contract.address, max_approval).transact({'from': user_one})\n",
    "    cow.functions.approve(market_contract.address, max_approval).transact({'from': user_two})\n",
    "    cow.functions.approve(market_contract.address, max_approval).transact({'from': user_new})\n",
    "    cow.functions.approve(market_contract.address, max_approval).transact({'from': user_buyer})\n",
    "    eth.functions.approve(market_contract.address, max_approval).transact({'from': deploy_address})\n",
    "    eth.functions.approve(market_contract.address, max_approval).transact({'from': user_one})\n",
    "    eth.functions.approve(market_contract.address, max_approval).transact({'from': user_two})\n",
    "    eth.functions.approve(market_contract.address, max_approval).transact({'from': user_new})\n",
    "    eth.functions.approve(market_contract.address, max_approval).transact({'from': user_buyer})\n",
    "    blz.functions.approve(market_contract.address, max_approval).transact({'from': deploy_address})\n",
    "    blz.functions.approve(market_contract.address, max_approval).transact({'from': user_one})\n",
    "    blz.functions.approve(market_contract.address, max_approval).transact({'from': user_two})\n",
    "    blz.functions.approve(market_contract.address, max_approval).transact({'from': user_new})\n",
    "    blz.functions.approve(market_contract.address, max_approval).transact({'from': user_buyer})\n",
    "\n",
    "    erc20 = {'cow': cow, 'eth': eth, 'blz': blz}\n",
    "\n",
    "    return erc20"
   ]
  },
  {
   "attachments": {},
   "cell_type": "markdown",
   "metadata": {},
   "source": [
    "Pseudocode for the different tests "
   ]
  },
  {
   "cell_type": "code",
   "execution_count": 18,
   "metadata": {},
   "outputs": [],
   "source": [
    "tester = tester_provider()\n",
    "ethtester = eth_tester(tester)\n",
    "w3 = Web3(tester)\n",
    "addaccount = add_account(ethtester)\n"
   ]
  },
  {
   "cell_type": "code",
   "execution_count": 19,
   "metadata": {},
   "outputs": [
    {
     "data": {
      "text/plain": [
       "{'address': '0xdC544d1AA88Ff8bbd2F2AeC754B1F1e99e1812fd',\n",
       " 'key': '0x58d23b55bc9cdce1f18c2500f40ff4ab7245df9a89505e9b1fa4851f623d241d'}"
      ]
     },
     "execution_count": 19,
     "metadata": {},
     "output_type": "execute_result"
    }
   ],
   "source": [
    "addaccount"
   ]
  },
  {
   "cell_type": "code",
   "execution_count": 16,
   "metadata": {},
   "outputs": [
    {
     "data": {
      "text/plain": [
       "<web3.main.Web3 at 0x1218ff7c0>"
      ]
     },
     "execution_count": 16,
     "metadata": {},
     "output_type": "execute_result"
    }
   ],
   "source": [
    "Web3(tester)"
   ]
  }
 ],
 "metadata": {
  "kernelspec": {
   "display_name": "rubicon",
   "language": "python",
   "name": "python3"
  },
  "language_info": {
   "codemirror_mode": {
    "name": "ipython",
    "version": 3
   },
   "file_extension": ".py",
   "mimetype": "text/x-python",
   "name": "python",
   "nbconvert_exporter": "python",
   "pygments_lexer": "ipython3",
   "version": "3.10.11"
  },
  "orig_nbformat": 4
 },
 "nbformat": 4,
 "nbformat_minor": 2
}
